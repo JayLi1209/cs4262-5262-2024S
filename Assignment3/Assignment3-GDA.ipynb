{
 "cells": [
  {
   "cell_type": "markdown",
   "metadata": {},
   "source": [
    "<h1>\n",
    "<center>\n",
    "Assignment 3: Classification: GDA and SVM\n",
    "</center>\n",
    "</h1>\n",
    "<center>\n",
    "CS 4262/5262 - Foundations of Machine Learning<br>\n",
    "Vanderbilt University, Spring 2024<br>\n",
    "Due: Check Brightspace\n",
    "</center>\n",
    "<hr>\n",
    "<br>This assignment will focus on Gaussian Discriminant Analysis and Support Vector Machines. In addition to programming tasks, there are short-answer questions throughout the notebook. \n",
    "\n",
    "Contact: Gary Chung kuan-i.chung@vanderbilt.edu for any clarifying questions."
   ]
  },
  {
   "cell_type": "markdown",
   "metadata": {},
   "source": [
    "**Name**: <font color='blue'>Yuanhe Li\n",
    "\n",
    "**Course**: <font color='blue'>CS 4262\n",
    "\n"
   ]
  },
  {
   "cell_type": "markdown",
   "metadata": {},
   "source": [
    "---\n",
    "## Part 1: Gaussian Discriminant Analysis (theoretical part)\n",
    "During the class we derive the closed-form solution for the parameters $\\phi$ and $\\mu_1$. In this part, you will need to derive the closed-form solution for $\\mu_0$ and $\\Sigma$. You can start your derivation from stating the log-likelihood function and then take the derivative with respect to $\\mu_0$ and $\\Sigma$. Also, you will need to show why the decision boundary is linear when the covariance matrix is the same for both classes. And finally, GDA can be seen as a special case of logistic regression.\n",
    "\n",
    "For 4262 students, you only need to do question 1, 3. For 5262 students, you need to finish all questions."
   ]
  },
  {
   "cell_type": "markdown",
   "metadata": {},
   "source": [
    "**Question 1:** Derive the closed-form solution for $\\mu_0$.\n",
    "\n",
    "<font color='blue'>\n",
    "    \n",
    "**Ans.:**\n",
    "Let's start with \n",
    "\n",
    "$\n",
    "l = \\sum_{i=1}^m\\log p(x^{(i)}|y^{(i)};\\mu_0,\\mu_1,\\Sigma)p(y^{(i)},\\phi)\n",
    "=\\sum_{i=1}^m \\log\\left( \\frac{1}{(2\\pi)^{\\frac{n}{2}}|\\Sigma|^{\\frac{1}{2}}}\\exp(-\\frac{1}{2}(x^{(i)}-\\mu_0)^T\\Sigma^{-1}(x^{(i)}-\\mu_0) ) \\right) + \\log(p(y^{(i)},\\phi))\n",
    "$\n",
    "\n",
    "Since we don't care about $p(y^{(i)},\\phi)$, we define that \n",
    "$\n",
    "m = \\sum_{i=1}^m \\log\\left( \\frac{1}{(2\\pi)^{\\frac{n}{2}}|\\Sigma|^{\\frac{1}{2}}}\\exp(-\\frac{1}{2}(x^{(i)}-\\mu_0)^T\\Sigma^{-1}(x^{(i)}-\\mu_0) ) \\right)\n",
    "$\n",
    "and plugging in the $\\log$ gives\n",
    "    \n",
    "$\n",
    "m = \\sum_{i=1}^m-\\frac{n}{2}\\log(2\\pi)-\\frac{1}{2}\\log|\\Sigma|-\\frac{1}{2} (x^{(i)}-\\mu_0)^T\\Sigma^{-1}(x^{(i)}-\\mu_0)\n",
    "$\n",
    "\n",
    "But then $\\log(2\\pi)-\\frac{1}{2}\\log|\\Sigma|$ is a constant, so we take the derivative to get\n",
    "\n",
    "$\n",
    "\\frac{\\partial l}{\\partial \\mu_0} = \\frac{\\partial m}{\\partial \\mu_0} = \\frac{\\partial}{\\partial \\mu_0} \\sum_{i=1}^m \\left(-\\frac{1}{2}(x^{(i)}-\\mu_0)^T\\Sigma^{-1}(x^{(i)}-\\mu_0)\\right) = \\Sigma^{-1}\\sum_{y^{(i)} = 0}(x^{(i)} - \\mu_0) = 0\n",
    "$\n",
    "    \n",
    "(The step above is because $\\frac{\\partial}{\\partial x}(x^TBx)  = 2Bx$)\n",
    "\n",
    "Since $\\Sigma^{-1}$ is invertible, the only term that = 0 is $\\sum_{y^{(i)} = 0}(x^{(i)} - \\mu_0)$. Then, we have \n",
    "$\\sum_{y^{(i)} = 0}x^{(i)} = \\sum_{y^{(i)} = 0}\\mu_0$ and hence $\\mu_0m_0 = \\sum_{y^{(i)} = 0}x^{(i)}$, where $m_0$ is the number of data points where $y^{(i)} = 0$.\n",
    "    \n",
    "Finally, we have\n",
    "    \n",
    "$\n",
    "\\mu_0 = \\frac{1}{m_0}\\sum_{y^{(i)} = 0}x^{(i)}\n",
    "$\n",
    "</font>\n"
   ]
  },
  {
   "cell_type": "markdown",
   "metadata": {},
   "source": [
    "**Question 2 (optional for 4262):** Derive the closed-form solution for $\\Sigma$.\n",
    "\n",
    "<font color='blue'>\n",
    "\n",
    "**Ans.:**  Thankfully, I don't have to do this.\n",
    " \n",
    "</font>\n"
   ]
  },
  {
   "cell_type": "markdown",
   "metadata": {},
   "source": [
    "**Question 3:** Show that the decision boundary for GDA is linear when the covariance matrices of the two classes are the same. Please derive in algebraic form. Something like\n",
    "$$a^T x + b = 0$$\n",
    "but showing $a^T$ and $b$ in terms of $\\Sigma$, $\\mu_0$, $\\mu_1$, and $\\phi$.\n",
    "\n",
    "<font color='blue'>\n",
    "\n",
    "**Ans.:** we start out with $p(y=1|x) = p(y=0|x)$. Then, using bayes, we have $\\dfrac{p(x|y=1)p(y=1)}{p(x)} = \\dfrac{p(x|y=0)p(y=0)}{p(x)}$. \n",
    "\n",
    "When we expand both sides in terms of the Gaussian distribution form, they share a non-zero common factor $\\frac{1}{(2\\pi)^{\\frac{n}{2}}|\\Sigma|^{\\frac{1}{2}}}$. Elimiate it and taking $\\log$ on both sides, we have\n",
    "    \n",
    "$\n",
    "-\\frac{1}{2}(x-\\mu_1)^T\\Sigma^{-1}(x-\\mu_1) +\\log \\phi = -\\frac{1}{2}(x-\\mu_0)^T\\Sigma^{-1}(x-\\mu_0) +\\log (1-\\phi)\n",
    "$\n",
    "    \n",
    "Get rid of $-\\frac{1}{2}$ and expand both sides to get\n",
    "$\n",
    "-\\frac{1}{2} x^{T} \\Sigma^{-1} x+x^{T} \\Sigma^{-1} \\mu_{1}-\\frac{1}{2} \\mu_{1}^{T} \\Sigma^{-1} \\mu_{1}+\\log \\phi=-\\frac{1}{2} x^{T} \\Sigma^{-1} x+x^{T} \\Sigma^{-1} \\mu_{0}-\\frac{1}{2} \\mu_{0}^{T} \\Sigma^{-1} \\mu_{0}+\\log(1-\\phi)\n",
    "$\n",
    "    \n",
    "Rearranging the terms,\n",
    "    \n",
    "$\n",
    "x^{T} \\Sigma^{-1}\\left(\\mu_{1}-\\mu_{0}\\right)=\\frac{1}{2} \\mu_{1}^{T} \\Sigma^{-1} \\mu_{1}-\\frac{1}{2} \\mu_{0}^{T} \\Sigma^{-1} \\mu_{0}+\\log \\frac{1-\\phi}{\\phi}\n",
    "$\n",
    "\n",
    "For dot product, $x^Ty = y^Tx$. We switch the position to get\n",
    "\n",
    "$\n",
    "\\left(\\Sigma^{-1}\\left(\\mu_{1}-\\mu_{0}\\right)\\right)^{T}x = \\frac{1}{2} \\mu_{1}^{T} \\Sigma^{-1} \\mu_{1}-\\frac{1}{2} \\mu_{0}^{T} \\Sigma^{-1} \\mu_{0}+\\log \\frac{1-\\phi}{\\phi}\n",
    "$\n",
    "    \n",
    "Hence $a^T = \\left(\\Sigma^{-1}\\left(\\mu_{1}-\\mu_{0}\\right)\\right)^T$ and $b = -\\frac{1}{2} \\mu_{1}^{T} \\Sigma^{-1} \\mu_{1}+\\frac{1}{2} \\mu_{0}^{T} \\Sigma^{-1} \\mu_{0}-\\log \\frac{1-\\phi}{\\phi}$"
   ]
  },
  {
   "cell_type": "markdown",
   "metadata": {},
   "source": [
    "**Brainstorming: (no marks or deduction)** Why is GDA can be considered as a logistic regression model? That is, why the following equation holds?\n",
    "$$p(y=1|x) = \\frac{1}{1 + e^{-(a^Tx+b)}}$$\n",
    "\n",
    "where,\n",
    "\n",
    "$$\n",
    "a^T = (\\mu_1-\\mu_0)^T\\Sigma^{-1}\\\\\n",
    "$$\n",
    "\n",
    "and\n",
    "\n",
    "$$\n",
    "b= \\frac{1}{2}\\mu_0^T\\Sigma^{-1}\\mu_0- \\frac{1}{2}\\mu_1^T\\Sigma^{-1}\\mu_1 +\\log\\frac{\\phi}{1-\\phi}\n",
    "$$\n",
    "\n",
    "In the later part, you can use the above equation to help you implement the GDA model.\n",
    "\n",
    "<font color='blue'>\n",
    "I think it comes from the fact that the covariance matrices are different. Then, $\\frac{1}{(2\\pi)^{\\frac{n}{2}}|\\Sigma|^{\\frac{1}{2}}}$ this term gives the fractional part, and the $e$ part preserves due to some derivations..."
   ]
  },
  {
   "cell_type": "markdown",
   "metadata": {},
   "source": [
    "---\n",
    "## Part 2: Gaussian Discriminant Analysis (implementation part)\n"
   ]
  },
  {
   "cell_type": "markdown",
   "metadata": {},
   "source": [
    "**Task 1**\n",
    "- Write a function (or a set of functions) that takes in a set of training data and returns the maximum likelihood estimates of the parameters $\\mu_0$, $\\mu_1$, $\\Sigma$, and $\\phi$. Assume that the class covariance matrices are equal, which results in a linear decision boundary. You can use the formulas provided in the lecture notes for the maximum likelihood estimates of each parameter. \n",
    "\n",
    "- Load the Wine dataset (the same files as Assignment2 are included in this distribution). Choose columns of citric acid and total sulfur dioxide as input $x$. \n",
    "- Splitting into training/test sets in 80/20 ratio.\n",
    "- Pick 50 samples for each class from the training set (100 in total).\n",
    "- Plot as follows:\n",
    "    - The training data points from each class in a scatter plot.\n",
    "    - Show the $\\mu_0$ and $\\mu_1$ on the plot.\n",
    "    - Giving different colors to the two classes.\n",
    "    - The decision boundary on the same plot.\n",
    "    - Set plotting limits to [-.08, 1.8] for citric acid and [-5, 360] for total sulfur dioxide.\n",
    "- Calculate and report the model performance on test set. Please make sure to report F1 Score as well. "
   ]
  },
  {
   "cell_type": "code",
   "execution_count": 1,
   "metadata": {},
   "outputs": [],
   "source": [
    "import csv\n",
    "import matplotlib.pyplot as plt\n",
    "from matplotlib.colors import ListedColormap\n",
    "import numpy as np\n",
    "import scipy as sp\n",
    "from sklearn import datasets\n",
    "from sklearn.svm import SVC \n",
    "import pandas as pd"
   ]
  },
  {
   "cell_type": "code",
   "execution_count": 12,
   "metadata": {},
   "outputs": [],
   "source": [
    "# TODO - write functions to calculate the GDA parameters, and estimate these parameters on the wine dataset.\n",
    "\n",
    "class GDA:\n",
    "    def __init__(self, x, y):\n",
    "        self.x = x\n",
    "        self.y = y\n",
    "        self.mu_0 = self.get_mu_0()\n",
    "        self.mu_1 = self.get_mu_1()\n",
    "        self.sigma = self.get_sigma()\n",
    "        self.phi = self.get_phi()\n",
    "    \n",
    "    def get_mu_0(self):\n",
    "        filtered_x = self.x[self.y == 0]\n",
    "        return np.mean(filtered_x, axis=0)\n",
    "        \n",
    "    def get_mu_1(self):\n",
    "        filtered_x = self.x[self.y == 1]\n",
    "        return np.mean(filtered_x, axis=0)\n",
    "\n",
    "    def get_sigma(self):\n",
    "        return np.cov(self.x.T)\n",
    "\n",
    "\n",
    "    def get_phi(self):\n",
    "        return np.mean(self.y == 1)\n",
    "\n",
    "    def sigmoid(self, z):\n",
    "        return 1/(1 + np.exp(-z))\n",
    "    \n",
    "    @property\n",
    "    def a_t(self):\n",
    "        return (self.mu_1-self.mu_0).T @ np.linalg.inv(self.sigma)\n",
    "    \n",
    "    @property\n",
    "    def b(self):\n",
    "        # Calculate inverse first\n",
    "        sigma_inv = np.linalg.inv(self.sigma)\n",
    "        # Compute both terms\n",
    "        first_term = -0.5 * np.dot(np.dot(self.mu_0.T, sigma_inv), self.mu_0)\n",
    "        second_term = 0.5 * np.dot(np.dot(self.mu_1.T, sigma_inv), self.mu_1)\n",
    "        return first_term - second_term + np.log(self.phi / (1 - self.phi))\n",
    "\n",
    "\n",
    "    def predict(self, x_new, threshold=0.5):\n",
    "        z = x_new @ self.a_t + self.b\n",
    "        return self.sigmoid(z) > threshold\n",
    "    \n",
    "    def decision_boundary(self, x):\n",
    "        return -(self.b + self.a_t[0] * x) / self.a_t[1]\n",
    "    \n",
    "    def plot(self):\n",
    "        plt.scatter(self.x[self.y == 0][:, 0],\n",
    "                    self.x[self.y == 0][:, 1],\n",
    "                    label='white wine', alpha=0.2, marker='.')\n",
    "        plt.scatter(self.x[self.y == 1][:, 0],\n",
    "                    self.x[self.y == 1][:, 1],\n",
    "                    label='red wine', alpha=0.2, marker='.')\n",
    "        x1 = np.linspace(self.x[:, 0].min(), self.x[:, 0].max(), 100)\n",
    "        x2 = self.decision_boundary(x1)\n",
    "        plt.plot(x1, x2, label='Decision Boundary', c='g')\n",
    "        plt.scatter(self.mu_0[0], self.mu_0[1], c='blue', marker='x', label='$\\mu_0$', s=80)\n",
    "        plt.scatter(self.mu_1[0], self.mu_1[1], c='brown', marker='x', label='$\\mu_1$', s=80)\n",
    "        plt.xlabel('citric acid')\n",
    "        plt.ylabel('total sulfur dioxide')\n",
    "        plt.title('GDA')\n",
    "        plt.xlim(-.08, .8)\n",
    "        plt.ylim(-5, 360)\n",
    "        plt.legend()\n",
    "        plt.show()\n",
    "\n",
    "    def classification_report(self, y_true, y_pred):\n",
    "        unique_labels = np.unique(np.concatenate((y_true, y_pred)))\n",
    "        report_dict = {}\n",
    "    \n",
    "        for label in unique_labels:\n",
    "            tp = np.sum((y_true == label) & (y_pred == label))\n",
    "            fp = np.sum((y_true != label) & (y_pred == label))\n",
    "            fn = np.sum((y_true == label) & (y_pred != label))\n",
    "            \n",
    "            precision = tp / (tp + fp) if (tp + fp) > 0 else 0\n",
    "            recall = tp / (tp + fn) if (tp + fn) > 0 else 0\n",
    "            f1_score = 2 * precision * recall / (precision + recall) if (precision + recall) > 0 else 0\n",
    "            support = np.sum(y_true == label)\n",
    "            \n",
    "            report_dict[label] = {\n",
    "                \"precision\": precision,\n",
    "                \"recall\": recall,\n",
    "                \"f1-score\": f1_score,\n",
    "                \"support\": support\n",
    "            }\n",
    "        \n",
    "        # Optionally, compute and add overall averages to the report\n",
    "        macro_precision = np.mean([metrics[\"precision\"] for metrics in report_dict.values()])\n",
    "        macro_recall = np.mean([metrics[\"recall\"] for metrics in report_dict.values()])\n",
    "        macro_f1 = np.mean([metrics[\"f1-score\"] for metrics in report_dict.values()])\n",
    "    \n",
    "        return report_dict"
   ]
  },
  {
   "cell_type": "code",
   "execution_count": 13,
   "metadata": {},
   "outputs": [],
   "source": [
    "# Load the wine dataset and split it.\n",
    "\n",
    "# 1. Splitting the dataset, using sklearn library\n",
    "from sklearn.model_selection import train_test_split\n",
    "\n",
    "df = pd.read_csv(\"assignment3-wine_quality.csv\")\n",
    "\n",
    "\n",
    "# Select only the two cols we want\n",
    "df = df[['citric acid', 'total sulfur dioxide', 'label']]\n",
    "\n",
    "# Split the data into training and testing sets (80/20 split), randomized\n",
    "train_df, test_df = train_test_split(df, test_size=0.2, random_state=42, shuffle=True)\n",
    "\n",
    "# Pick 50 samples for each class from the training set.\n",
    "df_1 = train_df[train_df['label'] == 1.0].sample(n=50, random_state=42)\n",
    "df_2 = train_df[train_df['label'] == 0.0].sample(n=50, random_state=42)"
   ]
  },
  {
   "cell_type": "code",
   "execution_count": 14,
   "metadata": {},
   "outputs": [
    {
     "name": "stdout",
     "output_type": "stream",
     "text": [
      "x1 [0.         0.00767677 0.01535354 0.0230303  0.03070707 0.03838384\n",
      " 0.04606061 0.05373737 0.06141414 0.06909091 0.07676768 0.08444444\n",
      " 0.09212121 0.09979798 0.10747475 0.11515152 0.12282828 0.13050505\n",
      " 0.13818182 0.14585859 0.15353535 0.16121212 0.16888889 0.17656566\n",
      " 0.18424242 0.19191919 0.19959596 0.20727273 0.21494949 0.22262626\n",
      " 0.23030303 0.2379798  0.24565657 0.25333333 0.2610101  0.26868687\n",
      " 0.27636364 0.2840404  0.29171717 0.29939394 0.30707071 0.31474747\n",
      " 0.32242424 0.33010101 0.33777778 0.34545455 0.35313131 0.36080808\n",
      " 0.36848485 0.37616162 0.38383838 0.39151515 0.39919192 0.40686869\n",
      " 0.41454545 0.42222222 0.42989899 0.43757576 0.44525253 0.45292929\n",
      " 0.46060606 0.46828283 0.4759596  0.48363636 0.49131313 0.4989899\n",
      " 0.50666667 0.51434343 0.5220202  0.52969697 0.53737374 0.54505051\n",
      " 0.55272727 0.56040404 0.56808081 0.57575758 0.58343434 0.59111111\n",
      " 0.59878788 0.60646465 0.61414141 0.62181818 0.62949495 0.63717172\n",
      " 0.64484848 0.65252525 0.66020202 0.66787879 0.67555556 0.68323232\n",
      " 0.69090909 0.69858586 0.70626263 0.71393939 0.72161616 0.72929293\n",
      " 0.7369697  0.74464646 0.75232323 0.76      ] x2 [-213.05868042 -213.38682962 -213.71497883 -214.04312804 -214.37127724\n",
      " -214.69942645 -215.02757566 -215.35572486 -215.68387407 -216.01202327\n",
      " -216.34017248 -216.66832169 -216.99647089 -217.3246201  -217.65276931\n",
      " -217.98091851 -218.30906772 -218.63721693 -218.96536613 -219.29351534\n",
      " -219.62166454 -219.94981375 -220.27796296 -220.60611216 -220.93426137\n",
      " -221.26241058 -221.59055978 -221.91870899 -222.2468582  -222.5750074\n",
      " -222.90315661 -223.23130581 -223.55945502 -223.88760423 -224.21575343\n",
      " -224.54390264 -224.87205185 -225.20020105 -225.52835026 -225.85649947\n",
      " -226.18464867 -226.51279788 -226.84094708 -227.16909629 -227.4972455\n",
      " -227.8253947  -228.15354391 -228.48169312 -228.80984232 -229.13799153\n",
      " -229.46614074 -229.79428994 -230.12243915 -230.45058835 -230.77873756\n",
      " -231.10688677 -231.43503597 -231.76318518 -232.09133439 -232.41948359\n",
      " -232.7476328  -233.07578201 -233.40393121 -233.73208042 -234.06022962\n",
      " -234.38837883 -234.71652804 -235.04467724 -235.37282645 -235.70097566\n",
      " -236.02912486 -236.35727407 -236.68542328 -237.01357248 -237.34172169\n",
      " -237.66987089 -237.9980201  -238.32616931 -238.65431851 -238.98246772\n",
      " -239.31061693 -239.63876613 -239.96691534 -240.29506455 -240.62321375\n",
      " -240.95136296 -241.27951216 -241.60766137 -241.93581058 -242.26395978\n",
      " -242.59210899 -242.9202582  -243.2484074  -243.57655661 -243.90470582\n",
      " -244.23285502 -244.56100423 -244.88915343 -245.21730264 -245.54545185]\n"
     ]
    },
    {
     "data": {
      "image/png": "[encoded data removed]",
      "text/plain": [
       "<Figure size 640x480 with 1 Axes>"
      ]
     },
     "metadata": {},
     "output_type": "display_data"
    }
   ],
   "source": [
    "%matplotlib inline\n",
    "# run the experiment in Task 1\n",
    "\n",
    "# To pass in, first concat\n",
    "balanced_df = pd.concat([df_1, df_2])\n",
    "\n",
    "# take those values\n",
    "x = balanced_df[['citric acid', 'total sulfur dioxide']].values\n",
    "\n",
    "# make the y input form fit.\n",
    "y = balanced_df['label']\n",
    "\n",
    "# print(y)\n",
    "# Initialize model\n",
    "model_gda = GDA(x, y)\n",
    "model_gda.predict(x)\n",
    "model_gda.plot()\n",
    "\n",
    "\n",
    "# model_gda.classification_report()\n",
    "# plt.scatter(df_1['citric acid'], df_1['total sulfur dioxide'], label=\"1: Red wine\")\n",
    "# plt.scatter(df_2['citric acid'], df_2['total sulfur dioxide'], label=\"0: White wine\")\n",
    "\n",
    "# plt.scatter(np.mean(df_1['citric acid']), np.mean(df_1['total sulfur dioxide']), label=\"$\\mu_1$\")\n",
    "# plt.scatter(np.mean(df_2['citric acid']), np.mean(df_2['total sulfur dioxide']), label=\"$\\mu_0$\")\n",
    "\n",
    "\n",
    "# plt.xlabel(\"Citric Acid\")\n",
    "# plt.ylabel(\"Total Sulfur Dioxide\")\n",
    "# plt.title('Citric Acid vs Total Sulfur Dioxide')\n",
    "# plt.legend()\n",
    "# plt.show()"
   ]
  },
  {
   "cell_type": "markdown",
   "metadata": {},
   "source": [
    "**Task 2:**\n",
    "\n",
    "Increase to 1200 sample for class 1 only. Now we have 50 samples for class 0 and 1200 samples for class 1. And repeat the same process as in Task 1.\n"
   ]
  },
  {
   "cell_type": "code",
   "execution_count": null,
   "metadata": {},
   "outputs": [],
   "source": [
    "# run the experiment in Task 2"
   ]
  },
  {
   "cell_type": "markdown",
   "metadata": {},
   "source": [
    "**Question 4:** Since the plotting limits are set to the same range for both tasks, what do you observe about the decision boundary?\n",
    "\n",
    "**Ans.:**\n"
   ]
  },
  {
   "cell_type": "markdown",
   "metadata": {},
   "source": [
    "**Question 5:** What do you observe about the model performance on the test set when the number of samples for class 1 is increased? Why do you think this happens?\n",
    "\n",
    "**Ans.:**"
   ]
  },
  {
   "cell_type": "markdown",
   "metadata": {},
   "source": [
    "**Question 6:**\n",
    "\n",
    "Coding Task: What do you think the accuracy will be when the test data is imblanced as well. Develop model as same previous case. (Training phase will be same as **task 1**). For testing just consider 200 positive labed records from test set (y=1) and 20 negative labed records(y=0). Report testing results. Write your analysis based on below code results. Please report F1 score. Discuss about your observations on F1 score and compare it with accuracy in case of imbalanced data. "
   ]
  },
  {
   "cell_type": "code",
   "execution_count": null,
   "metadata": {},
   "outputs": [],
   "source": []
  },
  {
   "cell_type": "markdown",
   "metadata": {},
   "source": [
    "---\n",
    "## Part 3: Support Vector Machine\n",
    "\n",
    "Now, you will apply a Support Vector Machine (with radial basis function kernel) to the [Wisconsin Breast Cancer dataset](https://scikit-learn.org/stable/modules/generated/sklearn.datasets.load_breast_cancer.html). Use the columns 'perimeter (mean)' and 'symmetry (mean)' for the input features in your calculations. Here, rather than writing your own SVM class, you will be calling functions provided in scikit-learn: [documentation here](https://scikit-learn.org/stable/modules/generated/sklearn.svm.SVC.html)."
   ]
  },
  {
   "cell_type": "markdown",
   "metadata": {},
   "source": [
    "**Question 7:** Why is feature scaling important when using a support vector machine with the RBF kernel?\n",
    "\n",
    "**Ans.**"
   ]
  },
  {
   "cell_type": "markdown",
   "metadata": {},
   "source": [
    "**Task 3**\n",
    "<br><br>Using the WBC dataset, shuffle the dataset, split it using a 80/20  train/test partition, and perform feature scaling. You may refer to your code from Assignment 2 for those steps. Refer to instructions regarding feature scaling in the Logistic Regression section of Assignment 2."
   ]
  },
  {
   "cell_type": "code",
   "execution_count": null,
   "metadata": {},
   "outputs": [],
   "source": [
    "#TODO - process and partition the data "
   ]
  },
  {
   "cell_type": "markdown",
   "metadata": {},
   "source": [
    "**Question 8:** In the context of scikit-learn's SVM implementation (linked above), explain what hyperparameters C and gamma are, and describe the effects of increasing and decreasing their values.\n",
    "\n",
    "**Ans.**\n"
   ]
  },
  {
   "cell_type": "markdown",
   "metadata": {},
   "source": [
    "**Task 4**\n",
    "\n",
    "You will implement k-fold cross-validation to select the SVM hyperparameters. Note: you must write k-fold CV yourself, do not use sklearn.model_selection.KFold. However, you may use scikit-learn's SVC (you don't need to implement support vector machine yourself).\n",
    "\n",
    "- Choose three values of C and three values of gamma that you wish to consider. Additionally, pick a value of _k_ (# of cross-validation folds) \n",
    "- For each pair of hyperparameter values (C, gamma), perform k-fold cross validation *within the training set* you designated above.  \n",
    "- Report the pair of hyperparameter values that yields the highest accuracy (averaged across the k iterations) on this k-fold CV.\n",
    "- Using that pair of hyperparameters, train a \"final\" SVM using the *entire* training set\n",
    "- Run and report the accuracy of this model on the held-out test set. "
   ]
  },
  {
   "cell_type": "code",
   "execution_count": null,
   "metadata": {},
   "outputs": [],
   "source": [
    "#TODO - k-fold cross validation on SVMs"
   ]
  },
  {
   "cell_type": "markdown",
   "metadata": {},
   "source": [
    "**Question 9:** Which pair of hyperparameters were selected by k-fold CV? What was the accuracy of the corresponding model on the held-out test set?\n",
    "\n",
    "**Ans.**\n"
   ]
  },
  {
   "cell_type": "markdown",
   "metadata": {},
   "source": [
    "**Question 10:** Discuss the effects of changing C and gamma. To illustrate your response, generate plots of the decision boundary resulting from different values of C and gamma, in the following way:\n",
    "- Using the 'best' value of C (selected based on k-fold CV above), sweep over 2-3 different values of gamma, generating one plot of the decision boundary (superimposed on the training points) each time. Use the entire training set.\n",
    "- Repeat the above, this time using the 'best' value of gamma (selected based on k-fold CV above) and sweeping over 2-3 different values of C.\n",
    "\n",
    "**Ans.**"
   ]
  },
  {
   "cell_type": "code",
   "execution_count": null,
   "metadata": {},
   "outputs": [],
   "source": [
    "# The following code will plot the decision boundary on a dataset for a given classifier. \n",
    "# source: https://github.com/rasbt/python-machine-learning-book-2nd-edition/blob/master/code/ch02/ch02.ipynb\n",
    "def plot_decision_regions(X, y, classifier, resolution=0.02):\n",
    "\n",
    "    # set up marker generator and color map\n",
    "    markers = ('s', 'x', 'o', '^', 'v')\n",
    "    colors = ('red', 'blue', 'lightgreen', 'gray', 'cyan')\n",
    "    cmap = ListedColormap(colors[:len(np.unique(y))])\n",
    "\n",
    "    # plot the decision surface\n",
    "    x1_min, x1_max = X[:, 0].min() - 1, X[:, 0].max() + 1\n",
    "    x2_min, x2_max = X[:, 1].min() - 1, X[:, 1].max() + 1\n",
    "    xx1, xx2 = np.meshgrid(np.arange(x1_min, x1_max, resolution),\n",
    "                           np.arange(x2_min, x2_max, resolution))\n",
    "    Z = classifier.predict(np.array([xx1.ravel(), xx2.ravel()]).T)\n",
    "    Z = Z.reshape(xx1.shape)\n",
    "    plt.contourf(xx1, xx2, Z, alpha=0.3, cmap=cmap)\n",
    "    plt.xlim(xx1.min(), xx1.max())\n",
    "    plt.ylim(xx2.min(), xx2.max())\n",
    "\n",
    "    # plot class samples\n",
    "    for idx, cl in enumerate(np.unique(y)):\n",
    "        plt.scatter(x=X[y == cl, 0], \n",
    "                    y=X[y == cl, 1],\n",
    "                    alpha=0.8, \n",
    "                    c=colors[idx],\n",
    "                    marker=markers[idx], \n",
    "                    label=cl, \n",
    "                    edgecolor='black')"
   ]
  },
  {
   "cell_type": "code",
   "execution_count": null,
   "metadata": {},
   "outputs": [],
   "source": [
    "#TODO - analyze the effects of C and gamma"
   ]
  },
  {
   "cell_type": "markdown",
   "metadata": {},
   "source": [
    "---\n",
    "## Part 4: Submission \n",
    "\n",
    "Please upload a clean version of your work to Brightspace by the deadline. <em>If you use a separate PDF with your short answer questions, it should be added alongside the ipynb file as a PDF, and zipped up together as your solution.</em>"
   ]
  },
  {
   "cell_type": "markdown",
   "metadata": {},
   "source": [
    "Below, please acknowledge your collaborators as well as any resources/references (beyond guides to Python syntax) that you have used in this assignment:"
   ]
  },
  {
   "cell_type": "code",
   "execution_count": null,
   "metadata": {},
   "outputs": [],
   "source": []
  }
 ],
 "metadata": {
  "@webio": {
   "lastCommId": null,
   "lastKernelId": null
  },
  "kernelspec": {
   "display_name": "Python 3 (ipykernel)",
   "language": "python",
   "name": "python3"
  },
  "language_info": {
   "codemirror_mode": {
    "name": "ipython",
    "version": 3
   },
   "file_extension": ".py",
   "mimetype": "text/x-python",
   "name": "python",
   "nbconvert_exporter": "python",
   "pygments_lexer": "ipython3",
   "version": "3.11.5"
  }
 },
 "nbformat": 4,
 "nbformat_minor": 4
}
