{
 "cells": [
  {
   "cell_type": "markdown",
   "metadata": {},
   "source": [
    "<h1>\n",
    "<center>\n",
    "Assignment $n+1$: In-class hackathon!\n",
    "</center>\n",
    "</h1>\n",
    "<center>\n",
    "CS 4262/5262 - Foundations of Machine Learning<br>\n",
    "Vanderbilt University, Spring 2024<br>\n",
    "Due: Never\n",
    "</center>\n",
    "<hr>\n",
    "<br>This in-class assignment will focus on: (1) data extraction; (2) pre-processing; (3) PCA, (4) Discrete classification. It depends on data from the gearViews notebook, which is available in `speed_vs_rpm_honda.csv`\n",
    "\n",
    "Contact: Jonathan Sprinkle jonathan.sprinkle@vanderbilt.edu for any clarifying questions.\n"
   ]
  },
  {
   "cell_type": "markdown",
   "metadata": {},
   "source": [
    "Question: How accurately can you predict what gear a car is in, based on how fast it is going? Start with these two files that exercise a car's behavior, and then do the following:\n",
    "\n",
    "1. Open the speed vs RPM file, which is extracted from the provided CAN files; you will get time automatically. These values use a zero-order hold to have the same timestamp.\n",
    "1. Use unsupervised learning to estimate how many fixed gears the car has.\n",
    "1. Create a classification tool that predicts the gear based only on current speed, and estimate its performance.\n",
    "\n",
    "Tell me how accurate your final classifier is, if you can!"
   ]
  },
  {
   "cell_type": "code",
   "execution_count": 77,
   "metadata": {},
   "outputs": [],
   "source": [
    "import csv\n",
    "import matplotlib.pyplot as plt\n",
    "import numpy as np\n",
    "import pandas as pd\n",
    "pd.set_option('display.float_format', lambda x: '%.6f' % x)\n"
   ]
  },
  {
   "cell_type": "code",
   "execution_count": 78,
   "metadata": {},
   "outputs": [],
   "source": [
    "filename = 'speed_vs_rpm.csv'\n",
    "filename = 'speed_vs_rpm_honda.csv'\n"
   ]
  },
  {
   "cell_type": "code",
   "execution_count": 79,
   "metadata": {},
   "outputs": [],
   "source": [
    "df = pd.read_csv(filename)"
   ]
  },
  {
   "cell_type": "markdown",
   "metadata": {},
   "source": [
    "# Part 1, plot the data"
   ]
  },
  {
   "cell_type": "markdown",
   "metadata": {},
   "source": [
    "Extract RPM data, and plot it as a timeseries. Even though we have a clock for the index, you should use Time to plot what is happening, not the index Clock. "
   ]
  },
  {
   "cell_type": "code",
   "execution_count": null,
   "metadata": {},
   "outputs": [],
   "source": []
  },
  {
   "cell_type": "markdown",
   "metadata": {},
   "source": [
    "Do the same for Speed data."
   ]
  },
  {
   "cell_type": "code",
   "execution_count": null,
   "metadata": {},
   "outputs": [],
   "source": []
  },
  {
   "cell_type": "markdown",
   "metadata": {},
   "source": [
    "Plot a version of each that is decimated (1 out of every 10)"
   ]
  },
  {
   "cell_type": "code",
   "execution_count": null,
   "metadata": {},
   "outputs": [],
   "source": []
  },
  {
   "cell_type": "markdown",
   "metadata": {},
   "source": [
    "Make a scatter plot of RPM vs. Speed; choose decimated or not"
   ]
  },
  {
   "cell_type": "code",
   "execution_count": null,
   "metadata": {},
   "outputs": [],
   "source": []
  },
  {
   "cell_type": "markdown",
   "metadata": {},
   "source": [
    "## Your mission: Part 2\n",
    "\n",
    "Find out how many gears the car has, and label those values in a new column. \n",
    "\n",
    "\n"
   ]
  },
  {
   "cell_type": "markdown",
   "metadata": {},
   "source": [
    "Idea: Can we just logically add a new column, which is the gear ratio?\n"
   ]
  },
  {
   "cell_type": "code",
   "execution_count": null,
   "metadata": {},
   "outputs": [],
   "source": []
  },
  {
   "cell_type": "markdown",
   "metadata": {},
   "source": [
    "# Unsupervised learning---Part 3: tell me about the gears"
   ]
  },
  {
   "cell_type": "markdown",
   "metadata": {},
   "source": [
    "Using an unsupervised learning method of your choice, make an estimate of how many gears you see based on the scatter plot, so we can later classify the values.\n"
   ]
  },
  {
   "cell_type": "code",
   "execution_count": null,
   "metadata": {},
   "outputs": [],
   "source": []
  },
  {
   "cell_type": "code",
   "execution_count": 25,
   "metadata": {},
   "outputs": [],
   "source": [
    "# for your final piece of Part 3, show me how many gears you think there are."
   ]
  },
  {
   "cell_type": "markdown",
   "metadata": {},
   "source": [
    "# Predict gear based on speed--and tell me how accurate you are"
   ]
  },
  {
   "cell_type": "markdown",
   "metadata": {},
   "source": [
    "Yeah, you know enough about cars (or maybe you don't), but this is basically impossible to do with 100% accuracy because of hysterisis: a pursposeful design where the same two inputs can produce the same output, if defined as a parameteric function. Given that time is a parameter, then there is memory in the system to prevent you from shredding your gears.\n",
    "\n",
    "BUT I do want to know how accurate you think it is, based on your classifier. Use anything you want for the classification, but tell me how you do."
   ]
  },
  {
   "cell_type": "code",
   "execution_count": null,
   "metadata": {},
   "outputs": [],
   "source": []
  },
  {
   "cell_type": "markdown",
   "metadata": {},
   "source": [
    "# Send me a message with your final cell!"
   ]
  },
  {
   "cell_type": "markdown",
   "metadata": {},
   "source": [
    "Any last things to tell me about this hackathon or your experience in this class that you want to express in code or plot form? Use this cell (but remember that this is not anonymous so I'll probably know who submitted it). If you want to provide other feedback, use the force, er, I mean use the course evaluation tool!"
   ]
  },
  {
   "cell_type": "code",
   "execution_count": null,
   "metadata": {},
   "outputs": [],
   "source": []
  }
 ],
 "metadata": {
  "kernelspec": {
   "display_name": "Python 3 (ipykernel)",
   "language": "python",
   "name": "python3"
  },
  "language_info": {
   "codemirror_mode": {
    "name": "ipython",
    "version": 3
   },
   "file_extension": ".py",
   "mimetype": "text/x-python",
   "name": "python",
   "nbconvert_exporter": "python",
   "pygments_lexer": "ipython3",
   "version": "3.8.18"
  }
 },
 "nbformat": 4,
 "nbformat_minor": 4
}
